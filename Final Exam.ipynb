{
  "nbformat": 4,
  "nbformat_minor": 0,
  "metadata": {
    "colab": {
      "provenance": []
    },
    "kernelspec": {
      "name": "python3",
      "display_name": "Python 3"
    },
    "language_info": {
      "name": "python"
    }
  },
  "cells": [
    {
      "cell_type": "code",
      "source": [
        "!pip install ucimlrepo"
      ],
      "metadata": {
        "colab": {
          "base_uri": "https://localhost:8080/"
        },
        "id": "C_ygq2cfUk4r",
        "outputId": "83a26c60-35a9-418f-8b08-22e843989f09"
      },
      "execution_count": 1,
      "outputs": [
        {
          "output_type": "stream",
          "name": "stdout",
          "text": [
            "Requirement already satisfied: ucimlrepo in /usr/local/lib/python3.10/dist-packages (0.0.6)\n"
          ]
        }
      ]
    },
    {
      "cell_type": "markdown",
      "source": [
        "## 1. Dataset\n",
        "- In-Vehicle Coupon Recommendation\n",
        "- https://archive.ics.uci.edu/dataset/603/in+vehicle+coupon+recommendation\n"
      ],
      "metadata": {
        "id": "iUe-2PbcfOpQ"
      }
    },
    {
      "cell_type": "code",
      "execution_count": 71,
      "metadata": {
        "id": "FaQ4R9JbQzKo"
      },
      "outputs": [],
      "source": [
        "from ucimlrepo import fetch_ucirepo\n",
        "\n",
        "# fetch dataset\n",
        "in_vehicle_coupon_recommendation = fetch_ucirepo(id=603)\n",
        "\n",
        "# data (as pandas dataframes)\n",
        "data = in_vehicle_coupon_recommendation.data.original[['passenger', 'weather', 'temperature', 'time', 'coupon', 'expiration', 'income', 'Bar', 'CoffeeHouse', 'CarryAway', 'RestaurantLessThan20', \"Restaurant20To50\", 'toCoupon_GEQ25min', 'direction_same', 'Y']]"
      ]
    },
    {
      "cell_type": "markdown",
      "source": [
        "## 2. Data Cleaning"
      ],
      "metadata": {
        "id": "WYkAPEeefJEp"
      }
    },
    {
      "cell_type": "markdown",
      "source": [
        "### A. Drop Missing Values / Duplicates"
      ],
      "metadata": {
        "id": "FA7SwUbLqwHT"
      }
    },
    {
      "cell_type": "code",
      "source": [
        "data.shape"
      ],
      "metadata": {
        "colab": {
          "base_uri": "https://localhost:8080/"
        },
        "id": "TDYBkNkpqep1",
        "outputId": "fedc2a35-2103-4076-a9fa-11ae332e0e08"
      },
      "execution_count": 72,
      "outputs": [
        {
          "output_type": "execute_result",
          "data": {
            "text/plain": [
              "(12684, 15)"
            ]
          },
          "metadata": {},
          "execution_count": 72
        }
      ]
    },
    {
      "cell_type": "code",
      "source": [
        "data = data.drop_duplicates()\n",
        "data = data.dropna(how='any')\n",
        "data.shape"
      ],
      "metadata": {
        "colab": {
          "base_uri": "https://localhost:8080/"
        },
        "id": "n3W0kCIUqKCj",
        "outputId": "d6407ea7-7b33-4556-e19a-22287e07953e"
      },
      "execution_count": 73,
      "outputs": [
        {
          "output_type": "execute_result",
          "data": {
            "text/plain": [
              "(11593, 15)"
            ]
          },
          "metadata": {},
          "execution_count": 73
        }
      ]
    },
    {
      "cell_type": "markdown",
      "source": [
        "### B. Group time into distinct features\n",
        "- early morning, morning, midday, afternoon, evening, and night"
      ],
      "metadata": {
        "id": "9T9P6owvfvPF"
      }
    },
    {
      "cell_type": "code",
      "source": [
        "from datetime import datetime\n",
        "\n",
        "# Convert string time (e.g 10PM) into a python datetime object (date does not matter) and provide time category:\n",
        "def categorize_time(str_time):\n",
        "  _datetime = datetime.strptime(str_time, \"%I%p\")\n",
        "\n",
        "  if 0 <= _datetime.hour < 5:\n",
        "    # Early Morning\n",
        "    return 1\n",
        "  elif 5 <= _datetime.hour < 12:\n",
        "    # Morning\n",
        "    return 2\n",
        "  elif 12 <= _datetime.hour < 14:\n",
        "    # Midday\n",
        "    return 3\n",
        "  elif 14 <= _datetime.hour < 18:\n",
        "    # Afternoon\n",
        "    return 4\n",
        "  elif 18 <= _datetime.hour < 21:\n",
        "    # Evening\n",
        "    return 5\n",
        "  else:\n",
        "    # Night\n",
        "    return 6\n",
        "\n",
        "data['time'] = data['time'].apply(categorize_time)"
      ],
      "metadata": {
        "id": "havLFLLoUoLf"
      },
      "execution_count": 74,
      "outputs": []
    },
    {
      "cell_type": "markdown",
      "source": [
        "### C. Quantify other categorical features\n",
        "- weather\n",
        "- passenger\n",
        "- coupon type\n",
        "- expiration\n",
        "- income ranges\n",
        "- visits (bar, coffee house, restaurant)\n"
      ],
      "metadata": {
        "id": "PaClcTq_f5dJ"
      }
    },
    {
      "cell_type": "code",
      "source": [
        "categories = {\n",
        "    (\"weather\", ): {\n",
        "      \"Sunny\": 1,\n",
        "      \"Rainy\": 2,\n",
        "      \"Snowy\": 3\n",
        "  },\n",
        "    (\"passenger\", ): {\n",
        "        \"Alone\": 1,\n",
        "        \"Friend(s)\": 2,\n",
        "        \"Kid(s)\": 3,\n",
        "        \"Partner\": 4\n",
        "    },\n",
        "    (\"coupon\", ): {\n",
        "        \"Coffee House\": 1,\n",
        "        \"Restaurant(<20)\": 2,\n",
        "        \"Carry out & Take away\": 3,\n",
        "        \"Bar\": 4,\n",
        "        \"Restaurant(20-50)\": 5,\n",
        "    },\n",
        "    (\"expiration\", ): {\n",
        "        \"2h\": 1,\n",
        "        \"1d\": 2\n",
        "    },\n",
        "    (\"income\", ): {\n",
        "        \"Less than $12500\": 1,\n",
        "        \"$12500 - $24999\": 2,\n",
        "        \"$25000 - $37499\": 3,\n",
        "        \"$37500 - $49999\": 4,\n",
        "        \"$50000 - $62499\": 5,\n",
        "        \"$62500 - $74999\": 6,\n",
        "        \"$75000 - $87499\": 7,\n",
        "        \"$87500 - $99999\": 8,\n",
        "        \"$100000 or More\": 9\n",
        "    },\n",
        "    (\"Bar\", \"CoffeeHouse\", \"CarryAway\", \"RestaurantLessThan20\", \"Restaurant20To50\"): {\n",
        "        \"never\": 1,\n",
        "        \"less1\": 2,\n",
        "        \"1~3\": 3,\n",
        "        \"4~8\": 4,\n",
        "        \"gt8\": 5\n",
        "    }\n",
        "\n",
        "}\n",
        "\n",
        "def quantify_column(value):\n",
        "  return category[value]\n",
        "\n",
        "\n",
        "for category, _dict in categories.items():\n",
        "  for c in category:\n",
        "    data[c] = data[c].map(_dict)"
      ],
      "metadata": {
        "id": "alBQg78TfuWF"
      },
      "execution_count": 75,
      "outputs": []
    },
    {
      "cell_type": "markdown",
      "source": [
        "## 3. Model"
      ],
      "metadata": {
        "id": "zEdCsN7nrMVX"
      }
    },
    {
      "cell_type": "markdown",
      "source": [
        "### A. Split the dataset"
      ],
      "metadata": {
        "id": "E-wHLz2Jr5zo"
      }
    },
    {
      "cell_type": "code",
      "source": [
        "X = data.drop('Y', axis = 1)\n",
        "y = data['Y']\n",
        "random_seed = 42"
      ],
      "metadata": {
        "id": "-qNyNjQwr9vJ"
      },
      "execution_count": 86,
      "outputs": []
    },
    {
      "cell_type": "code",
      "source": [
        "from sklearn.model_selection import train_test_split\n",
        "X_train, X_test, y_train, y_test = train_test_split(X, y, test_size=0.2, random_state=random_seed)"
      ],
      "metadata": {
        "id": "TrkW1Cl8sc2z"
      },
      "execution_count": 88,
      "outputs": []
    },
    {
      "cell_type": "markdown",
      "source": [
        "### B. Initiate the model"
      ],
      "metadata": {
        "id": "SSJDGtV5r3GT"
      }
    },
    {
      "cell_type": "code",
      "source": [
        "from sklearn.linear_model import LogisticRegression\n",
        "from sklearn.tree import DecisionTreeClassifier\n",
        "from sklearn.ensemble import RandomForestClassifier, StackingClassifier, AdaBoostClassifier, BaggingClassifier\n",
        "from sklearn.svm import SVC\n",
        "from sklearn.feature_selection import RFE\n",
        "from sklearn.metrics import accuracy_score\n",
        "\n",
        "models = {\n",
        "    \"Logistic Regression\": LogisticRegression(max_iter=10000, random_state=random_seed),\n",
        "    \"Decision Tree\": DecisionTreeClassifier(random_state=random_seed),\n",
        "    \"Random Forest\": RandomForestClassifier(random_state=random_seed),\n",
        "    \"Support Vector Machine\": SVC(random_state=random_seed)\n",
        "}"
      ],
      "metadata": {
        "id": "50n541_wrJZq"
      },
      "execution_count": 80,
      "outputs": []
    },
    {
      "cell_type": "markdown",
      "source": [
        "### C. Train the models and evaluate their accuracy"
      ],
      "metadata": {
        "id": "xnH4ADglslEQ"
      }
    },
    {
      "cell_type": "code",
      "source": [
        "model_results = {}\n",
        "model_predictions = {}\n",
        "for name, model in models.items():\n",
        "  # Fit training subset\n",
        "  model.fit(X_train, y_train)\n",
        "\n",
        "  # Create y_pred\n",
        "  y_pred = model.predict(X_test)\n",
        "  model_predictions[name] = y_pred\n",
        "\n",
        "  # Evaluate accuracy\n",
        "  accuracy = accuracy_score(y_test, y_pred)\n",
        "  model_results[name] = accuracy"
      ],
      "metadata": {
        "id": "8S3MaVZRryeq"
      },
      "execution_count": 93,
      "outputs": []
    },
    {
      "cell_type": "code",
      "source": [
        "model_results"
      ],
      "metadata": {
        "colab": {
          "base_uri": "https://localhost:8080/"
        },
        "id": "hs7B48M1tNl8",
        "outputId": "b2cb222a-da92-48fb-9c5c-cc06eb6873e6"
      },
      "execution_count": 94,
      "outputs": [
        {
          "output_type": "execute_result",
          "data": {
            "text/plain": [
              "{'Logistic Regression': 0.6205260888313928,\n",
              " 'Decision Tree': 0.6511427339370418,\n",
              " 'Random Forest': 0.7084950409659336,\n",
              " 'Support Vector Machine': 0.5545493747304873}"
            ]
          },
          "metadata": {},
          "execution_count": 94
        }
      ]
    },
    {
      "cell_type": "markdown",
      "source": [
        "### D. Confusion Matrix"
      ],
      "metadata": {
        "id": "plXx8Z1hthLA"
      }
    },
    {
      "cell_type": "code",
      "source": [
        "import seaborn as sns\n",
        "import matplotlib.pyplot as plt\n",
        "from sklearn.metrics import confusion_matrix\n",
        "\n",
        "plt.figure(figsize=(8, 6))\n",
        "sns.heatmap(confusion_matrix(y_test, model_predictions['Random Forest']), annot=True, cmap='Blues', cbar = False)\n",
        "plt.xlabel('Prediction')\n",
        "plt.ylabel('Truth')\n",
        "plt.title('Confusion Matrix')"
      ],
      "metadata": {
        "colab": {
          "base_uri": "https://localhost:8080/",
          "height": 581
        },
        "id": "2pIZ2YEotjJS",
        "outputId": "63765d8d-eda4-4781-98db-90f5cd345131"
      },
      "execution_count": 99,
      "outputs": [
        {
          "output_type": "execute_result",
          "data": {
            "text/plain": [
              "Text(0.5, 1.0, 'Confusion Matrix')"
            ]
          },
          "metadata": {},
          "execution_count": 99
        },
        {
          "output_type": "display_data",
          "data": {
            "text/plain": [
              "<Figure size 800x600 with 1 Axes>"
            ],
            "image/png": "[encoded data removed]"
          },
          "metadata": {}
        }
      ]
    },
    {
      "cell_type": "markdown",
      "source": [
        "## 4. Model Persistence"
      ],
      "metadata": {
        "id": "UrE3c8CVuZNS"
      }
    },
    {
      "cell_type": "code",
      "source": [
        "import pickle\n",
        "\n",
        "filename = 'Random Forest.pickle'\n",
        "pickle.dump(models['Random Forest'], open(filename, 'wb'))\n",
        "# model_load = pickle.load(open('model.pickle', 'rb'))"
      ],
      "metadata": {
        "id": "7sXbRuCXuf2i"
      },
      "execution_count": 101,
      "outputs": []
    }
  ]
}